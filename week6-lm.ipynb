{
 "cells": [
  {
   "cell_type": "markdown",
   "metadata": {},
   "source": [
    "# Fun with language modelling\n",
    "\n",
    "* [Unreasonable effectiveness of RNN](http://karpathy.github.io/2015/05/21/rnn-effectiveness/) (Andrej Karpathy)\n",
    "* [Официальный гайд от TensorFlow](https://www.tensorflow.org/tutorials/sequences/recurrent)\n",
    "\n",
    "---"
   ]
  },
  {
   "cell_type": "code",
   "execution_count": 1,
   "metadata": {},
   "outputs": [
    {
     "name": "stderr",
     "output_type": "stream",
     "text": [
      "/home/pavel/anaconda3/lib/python3.6/site-packages/h5py/__init__.py:34: FutureWarning: Conversion of the second argument of issubdtype from `float` to `np.floating` is deprecated. In future, it will be treated as `np.float64 == np.dtype(float).type`.\n",
      "  from ._conv import register_converters as _register_converters\n"
     ]
    }
   ],
   "source": [
    "import numpy as np\n",
    "import tensorflow as tf\n",
    "import re\n",
    "import os\n",
    "from tensorflow.contrib import rnn\n",
    "import tensorflow.contrib.layers as layers"
   ]
  },
  {
   "cell_type": "markdown",
   "metadata": {},
   "source": [
    "## Препроцессинг (2 балл)\n",
    "\n",
    "Возьмите какие-нибудь сырые данные. Википедия, «Гарри Поттер», «Игра Престолов», твиты Тинькова — что угодно.\n",
    "\n",
    "Давайте для простоты делать char-level модель. Сопоставьте всем различным символам свой номер. Удобно это хранить просто в питоновском словаре (`char2idx`). Для генерации вам потребуется ещё и обратный словарь (`idx2char`).\n",
    "\n",
    "Клёво будет ещё написать класс, который делает токенизацию и детокенизацию."
   ]
  },
  {
   "cell_type": "code",
   "execution_count": 2,
   "metadata": {
    "collapsed": true
   },
   "outputs": [],
   "source": [
    "tf.reset_default_graph()"
   ]
  },
  {
   "cell_type": "code",
   "execution_count": 3,
   "metadata": {
    "collapsed": true
   },
   "outputs": [],
   "source": [
    "os.environ[\"CUDA_VISIBLE_DEVICES\"] = '3'"
   ]
  },
  {
   "cell_type": "code",
   "execution_count": 4,
   "metadata": {
    "collapsed": true
   },
   "outputs": [],
   "source": [
    "dataFile = '/home/pavel/MyDocs/MachineLearning/Tinkoff/lecture6/dataset/got1.txt'\n",
    "embeddingsFile = '/home/pavel/MyDocs/MachineLearning/Tinkoff/lecture6/char-embeddings.txt'"
   ]
  },
  {
   "cell_type": "code",
   "execution_count": 5,
   "metadata": {
    "collapsed": true
   },
   "outputs": [],
   "source": [
    "class Vocab:\n",
    "    def __init__(self, data):\n",
    "        self.char2idx = {}\n",
    "        self.idx2char = {}\n",
    "        counter = 0\n",
    "        for line in data:\n",
    "            sym = line[0]\n",
    "            if sym not in self.char2idx:\n",
    "                self.char2idx[sym] = counter\n",
    "                self.idx2char[counter] = sym\n",
    "                counter += 1\n",
    "    \n",
    "    def update_sequence(self, sequence):\n",
    "        newSequence = ''\n",
    "        for char in sequence:\n",
    "            if char in self.char2idx:\n",
    "                newSequence += char\n",
    "            else:\n",
    "                newSequence += ' '\n",
    "        newSequence = re.sub(' +',' ', newSequence)\n",
    "        return newSequence\n",
    "\n",
    "    def tokenize(self, sequence):\n",
    "        sequence = self.update_sequence(sequence)\n",
    "        return [self.char2idx[sym] for sym in sequence]\n",
    "    \n",
    "    def detokenize(self, sequence):\n",
    "        return ''.join([self.idx2char[num] for num in sequence])"
   ]
  },
  {
   "cell_type": "code",
   "execution_count": 6,
   "metadata": {
    "collapsed": true
   },
   "outputs": [],
   "source": [
    "with open(embeddingsFile, 'r') as file:\n",
    "    embDict = file.readlines()\n",
    "    vocab = Vocab(embDict)\n",
    "\n",
    "with open(dataFile, 'r') as file:\n",
    "    data = file.readlines()"
   ]
  },
  {
   "cell_type": "markdown",
   "metadata": {},
   "source": [
    "### Text example:"
   ]
  },
  {
   "cell_type": "code",
   "execution_count": 7,
   "metadata": {},
   "outputs": [
    {
     "name": "stdout",
     "output_type": "stream",
     "text": [
      "\n",
      "PROLOGUE\n",
      "\n",
      "The comet’s tail spread across the dawn, a red slash that bled above the crags of Dragonstone like a wound in the pink and purple sky.\n",
      "\n",
      "The maester stood on the windswept balcony outside his chambers. It was here the ravens came, after long flight. Their droppings speckled the gargoyles that rose twelve feet tall on either side of him, a hellhound and a wyvern, two of the thousand that brooded over the walls of the ancient fortress. When first he came to Dragonstone, the army of stone grotesques had made him uneasy, but as the years passed he had grown used to them. Now he thought of them as old friends. The three of them watched the sky together with foreboding.\n",
      "\n",
      "The maester did not believe in omens. And yet . . . old as he was, Cressen had never seen a comet half so bright, nor yet that color, that terrible color, the color of blood and flame and sunsets. He wondered if his gargoyles had ever seen its like. They had been here so much longer than he had, and would still be here long after he was gone. If stone tongues could speak . . .\n",
      "\n",
      "Such folly. He leaned against the battlement, the sea crashing beneath him, the black stone rough beneath his fingers. Talking gargoyles and prophecies in the sky. I am an old done man, grown giddy as a child again. Had a lifetime’s hard-won wisdom fled him along with his health and strength? He was a maester, trained and chained in the great Citadel of Oldtown. What had he come to, when superstition filled his head as if he were an ignorant fieldhand?\n",
      "\n",
      "And yet . . . and yet . . . the comet burned even by day now, while pale grey steam rose from the hot vents of Dragonmont behind the castle, and yestermorn a white raven had brought word from the Citadel itself, word long-expected but no less fearful for all that, word of summer’s end. Omens, all. Too many to deny. What does it all mean? he wanted to cry.\n",
      "\n",
      "“Maester Cressen, we have visitors.” Pylos spoke softly, as if loath to disturb Cressen’s solemn meditations. Had he known what drivel filled his head, he would have shouted. “The princess would see the white raven.” Ever correct, Pylos called her princess now, as her lord father was a king. King of a smoking rock in the great salt sea, yet a king nonetheless. “Her fool is with her.”\n",
      "\n",
      "The old man turned away from the dawn, keeping a hand on his wyvern to steady himself. “Help me to my chair and show them in.”\n",
      "\n",
      "Taking his arm, Pylos led him inside. In his youth, Cressen had walked briskly, but he was not far from his eightieth name day now, and his legs were frail and unsteady. Two years past, he had fallen and shattered a hip, and it had never mended properly. Last year when he took ill, the Citadel had sent Pylos out from Oldtown, mere days before Lord Stannis had closed the isle . . . to help him in his labors, it was said, but Cressen knew the truth. Pylos had come to replace him when he died. He did not mind. Someone must take his place, and sooner than he would like . . .\n",
      "\n",
      "He let the younger man settle him behind his books and papers. “Go bring her. It is ill to keep a lady waiting.” He waved a hand, a feeble gesture of haste from a man no longer capable of hastening. His flesh was wrinkled and spotted, the skin so papery thin that he could see the web of veins and the shape of bones beneath. And how they trembled, these hands of his that had once been so sure and deft . . .\n",
      "\n",
      "When Pylos returned the girl came with him, shy as ever. Behind her, shuffling and hopping in that queer sideways walk of his, came her fool. On his head was a mock helm fashioned from an old tin bucket, with a rack of deer antlers strapped to the crown and hung with cowbells. With his every lurching step, the bells rang, each with a different voice, clang-a-dang bong-dong ring-a-ling clong clong clong.\n",
      "\n",
      "“Who comes to see us so early, Pylos?” Cressen said.\n",
      "\n",
      "“It’s me and Patches, Maester.” Guileless blue eyes blinked at him. Hers was not a pretty face, alas. The child had her lord father’s square jut of jaw and her mother’s unfortunate ears, along with a disfigurement all her own, the legacy of the bout of greyscale that had almost claimed her in the crib. Across half one cheek and well down her neck, her flesh was stiff and dead, the skin cracked and flaking, mottled black and grey and stony to the touch. “Pylos said we might see the white raven.”\n",
      "\n",
      "“Indeed you may,” Cressen answered. As if he would ever deny her. She had been denied too often in her time. Her name was Shireen. She would be ten on her next name day, and she was the saddest child that Maester Cressen had ever known. Her sadness is my shame, the old man thought, another mark of my failure. “Maester Pylos, do me a kindness and bring the bird down from the rookery for the Lady Shireen.”\n",
      "\n",
      "“It would be my pleasure.” Pylos was a polite youth, no more than five-and-twenty, yet solemn as a man of sixty. If only he had more humor, more life in him; that was what was needed here. Grim places needed lightening, not solemnity, and Dragonstone was grim beyond a doubt, a lonely citadel in the wet waste surrounded by storm and salt, with the smoking shadow of the mountain at its back. A maester must go where he is sent, so Cressen had come here with his lord some twelve years past, and he had served, and served well. Yet he had never loved Dragonstone, nor ever felt truly at home here. Of late, when he woke from restless dreams in which the red woman figured disturbingly, he often did not know where he was.\n",
      "\n",
      "The fool turned his patched and piebald head to watch Pylos climb the steep iron steps to the rookery. His bells rang with the motion. “Under the sea, the birds have scales for feathers,” he said, clang-a-langing. “I know, I know, oh, oh, oh.”\n",
      "\n",
      "Even for a fool, Patchface was a sorry thing. Perhaps once he could evoke gales of laughter with a quip, but the sea had taken that power from him, along with half his wits and all his memory. He was soft and obese, subject to twitches and trembles, incoherent as often as not. The girl was the only one who laughed at him now, the only one who cared if he lived or died.\n",
      "\n",
      "An ugly little girl and a sad fool, and maester makes three . . . now there is a tale to make men weep. “Sit with me, child.” Cressen beckoned her closer. “This is early to come calling, scarce past dawn. You should be snug in your bed.”\n",
      "\n",
      "“I had bad dreams,” Shireen told him. “About the dragons. They were coming to eat me.”\n",
      "\n",
      "The child had been plagued by nightmares as far back as Maester Cressen could recall. “We have talked of this before,” he said gently. “The dragons cannot come to life. They are carved of stone, child. In olden days, our island was the westernmost outpost of the great Freehold of Valyria. It was the Valyrians who raised this citadel, and they had ways of shaping stone since lost to us. A castle must have towers wherever two walls meet at an angle, for defense. The Valyrians fashioned these towers in the shape of dragons to make their fortress seem more fearsome, just as they crowned their walls with a thousand gargoyles instead of simple crenellations.” He took her small pink hand in his own frail spotted one and gave it a gentle squeeze. “So you see, there is nothing to fear.”\n",
      "\n",
      "Shireen was unconvinced. “What about the thing in the sky? Dalla and Matrice were talking by the well, and Dalla said she heard the red woman tell Mother that it was dragonsbreath. If the dragons are breathing, doesn’t that mean they are coming to life?”\n",
      "\n",
      "The red woman, Maester Cressen thought sourly. Ill enough that she’s filled the head of the mother with her madness, must she poison the daughter’s dreams as well? He would have a stern word with Dalla, warn her not to spread such tales. “The thing in the sky is a comet, sweet child. A star with a tail, lost in the heavens. It will be gone soon enough, never to be seen again in our lifetimes. Watch and see.”\n",
      "\n",
      "Shireen gave a brave little nod. “Mother said the white raven means it’s not summer anymore.”\n",
      "\n",
      "“That is so, my lady. The white ravens fly only from the Citadel.” Cressen’s fingers went to the chain about his neck, each link forged from a different metal, each symbolizing his mastery of another branch of learning; the maester’s collar, mark of his order. In the pride of his youth, he had worn it easily, but now it seemed heavy to him, the metal cold against his skin. “They are larger than other ravens, and more clever, bred to carry only the most important messages. This one came to tell us that the Conclave has met, considered the reports and measurements made by maesters all over the realm, and declared this great summer done at last. Ten years, two turns, and sixteen days it lasted, the longest summer in living memory.”\n",
      "\n",
      "“Will it get cold now?” Shireen was a summer child, and had never known true cold.\n",
      "\n",
      "“In time,” Cressen replied. “If the gods are good, they will grant us a warm autumn and bountiful harvests, so we might prepare for the winter to come.” The smallfolk said that a long summer meant an even longer winter, but the maester saw no reason to frighten the child with such tales.\n",
      "\n",
      "Patchface rang his bells. “It is always summer under the sea,” he intoned. “The merwives wear nennymoans in their hair and weave gowns of silver seaweed. I know, I know, oh, oh, oh.”\n",
      "\n",
      "Shireen giggled. “I should like a gown of silver seaweed.”\n",
      "\n",
      "“Under the sea, it snows up,” said the fool, “and the rain is dry as bone. I know, I know, oh, oh, oh.”\n",
      "\n",
      "“Will it truly snow?” the child asked.\n",
      "\n"
     ]
    }
   ],
   "source": [
    "print(''.join(data[240:300]))"
   ]
  },
  {
   "cell_type": "markdown",
   "metadata": {},
   "source": [
    "## Модель (1 балл)\n",
    "\n",
    "Примерно такое должно зайти:\n",
    "\n",
    "* Эмбеддинг\n",
    "* LSTM / GRU\n",
    "* Дропаут\n",
    "* Линейный слой\n",
    "* Softmax"
   ]
  },
  {
   "cell_type": "code",
   "execution_count": 8,
   "metadata": {
    "collapsed": true
   },
   "outputs": [],
   "source": [
    "map_fn = tf.map_fn"
   ]
  },
  {
   "cell_type": "code",
   "execution_count": 9,
   "metadata": {
    "collapsed": true
   },
   "outputs": [],
   "source": [
    "def get_idx_vec(embDict):\n",
    "    idxVec = {}\n",
    "    linesNum = len(embDict)\n",
    "    for i in range(linesNum):\n",
    "        if embDict[i]:\n",
    "            char = embDict[i][0]\n",
    "            if char in vocab.char2idx:\n",
    "                numsStr = embDict[i][1:]\n",
    "                numsList = re.split(r'\\s+', numsStr)\n",
    "                numsList = [float(el) for el in numsList if el]\n",
    "                vec = np.array(numsList)\n",
    "                idxVec[vocab.char2idx[char]] = vec\n",
    "    \n",
    "    return idxVec"
   ]
  },
  {
   "cell_type": "code",
   "execution_count": 10,
   "metadata": {
    "collapsed": true
   },
   "outputs": [],
   "source": [
    "idxVec = get_idx_vec(embDict)\n",
    "\n",
    "    \n",
    "# Parameters\n",
    "learning_rate = 0.01\n",
    "display_step = 1000\n",
    "seq_len = 30\n",
    "rnn_hidden = 100\n",
    "keep_prob = 0.6\n",
    "vocab_size = len(vocab.char2idx)\n",
    "emb_size = len(idxVec[0])\n",
    "\n",
    "# tf Graph input\n",
    "inputs  = tf.placeholder(tf.int32, (seq_len, None, 1))  # (time, batch, in), here seq_len is \n",
    "outputs = tf.placeholder(tf.float32, (seq_len, None, vocab_size)) # (time, batch, out)"
   ]
  },
  {
   "cell_type": "code",
   "execution_count": 11,
   "metadata": {},
   "outputs": [
    {
     "name": "stdout",
     "output_type": "stream",
     "text": [
      "Tensor(\"Placeholder_1:0\", shape=(30, ?, 91), dtype=float32)\n",
      "300\n"
     ]
    }
   ],
   "source": [
    "print(outputs)\n",
    "print(len(idxVec[1]))"
   ]
  },
  {
   "cell_type": "code",
   "execution_count": 12,
   "metadata": {
    "collapsed": true
   },
   "outputs": [],
   "source": [
    "def build_model(inputs):\n",
    "    #Turning sequence of id into embeddings\n",
    "    with tf.variable_scope('enc', reuse = tf.AUTO_REUSE):\n",
    "        emb_matrix = tf.get_variable('embedding_matrix',\n",
    "                                 shape=[vocab_size, emb_size],\n",
    "                                 dtype=tf.float32)\n",
    "    \n",
    "        embs = tf.nn.embedding_lookup(emb_matrix, inputs)  # (seq_len, batch_size, 1, emb_size)\n",
    "    \n",
    "        new_input = tf.reduce_sum(embs, axis=3)  \n",
    "    \n",
    "    \n",
    "        batch_size = tf.shape(inputs)[1]\n",
    "        input_size = tf.shape(inputs)[2]\n",
    "    \n",
    "        #LSTM \n",
    "        cell = tf.nn.rnn_cell.BasicLSTMCell(rnn_hidden, state_is_tuple=True)\n",
    "        initial_state = cell.zero_state(batch_size, tf.float32)\n",
    "        rnn_outputs, rnn_states = tf.nn.dynamic_rnn(cell, new_input, initial_state=initial_state, time_major=True)\n",
    "    \n",
    "        \n",
    "        dropout_outputs = tf.nn.dropout(rnn_outputs, keep_prob)\n",
    "    \n",
    "        \n",
    "        final_projection = lambda x: layers.linear(x, num_outputs=vocab_size, activation_fn=tf.nn.softmax)\n",
    "        logits = map_fn(final_projection, dropout_outputs)\n",
    "    \n",
    "    return logits\n",
    "    "
   ]
  },
  {
   "cell_type": "markdown",
   "metadata": {},
   "source": [
    "## Обучение (3 балла)\n",
    "\n",
    "* Делайте сэмплирование предложений фиксированной длины из вашего корпуса. Можете как нарезать их изначально, так и написать генератор.\n",
    "* Используйте teacher forcing.\n",
    "* Выход модели — это one-hot вход, смещенный на одну позиию.\n",
    "* Функция потерь: кроссэнтропия.\n",
    "* Не забудьте мониторить и валидацию, и train."
   ]
  },
  {
   "cell_type": "code",
   "execution_count": 13,
   "metadata": {
    "collapsed": true
   },
   "outputs": [],
   "source": [
    "def get_one_hot(sym):\n",
    "    one_hot = np.zeros(vocab_size)\n",
    "    one_hot[vocab.char2idx[sym]] = 1\n",
    "    return one_hot"
   ]
  },
  {
   "cell_type": "code",
   "execution_count": 14,
   "metadata": {
    "collapsed": true
   },
   "outputs": [],
   "source": [
    "def de_one_hot(one_hot):\n",
    "    return vocab.idx2char[np.argmax(one_hot)]"
   ]
  },
  {
   "cell_type": "code",
   "execution_count": 15,
   "metadata": {
    "collapsed": true
   },
   "outputs": [],
   "source": [
    "def generate_example():\n",
    "    my_str = data[0]\n",
    "    while len(my_str) < (seq_len + 1):\n",
    "        str_num = np.random.randint(len(data))\n",
    "        my_str = vocab.update_sequence(data[str_num])\n",
    "    \n",
    "    start = len(my_str)\n",
    "    while(start + seq_len + 1 >= len(my_str)):\n",
    "        start = np.random.randint(len(my_str))\n",
    "    example = my_str[start:start+seq_len]\n",
    "    example = vocab.tokenize(example)\n",
    "    \n",
    "    result = np.zeros([seq_len, vocab_size])\n",
    "    \n",
    "    for i in range(start+1, start+1+seq_len):\n",
    "        char = my_str[i]\n",
    "        result[i-start-1] = get_one_hot(char)\n",
    "    return example, result\n",
    "    \n",
    "    \n",
    "def generate_batch(batch_size):\n",
    "    x = np.empty((seq_len, batch_size, 1), dtype=np.int32)\n",
    "    y = np.empty((seq_len, batch_size, vocab_size), dtype=np.float32)\n",
    "\n",
    "    for i in range(batch_size):\n",
    "        ex, res = generate_example()\n",
    "        x[:, i, 0] = ex\n",
    "        y[:, i, :] = res\n",
    "    return x, y"
   ]
  },
  {
   "cell_type": "code",
   "execution_count": 16,
   "metadata": {
    "scrolled": true
   },
   "outputs": [
    {
     "name": "stdout",
     "output_type": "stream",
     "text": [
      "WARNING:tensorflow:From <ipython-input-12-da9b4185ea4f>:17: BasicLSTMCell.__init__ (from tensorflow.python.ops.rnn_cell_impl) is deprecated and will be removed in a future version.\n",
      "Instructions for updating:\n",
      "This class is deprecated, please use tf.nn.rnn_cell.LSTMCell, which supports all the feature this cell currently has. Please replace the existing code with tf.nn.rnn_cell.LSTMCell(name='basic_lstm_cell').\n"
     ]
    }
   ],
   "source": [
    "logits = build_model(inputs)\n",
    "true_pred = tf.argmax(outputs, axis = 2)\n",
    "pred = tf.argmax(logits, axis = 2)\n",
    "accuracy = tf.reduce_sum(tf.cast(tf.math.equal(true_pred, pred), tf.int32))/tf.size(pred)\n",
    "\n",
    "loss = tf.losses.softmax_cross_entropy(onehot_labels=outputs, logits=logits)\n",
    "train_fn = tf.train.AdamOptimizer(learning_rate=learning_rate).minimize(loss)"
   ]
  },
  {
   "cell_type": "code",
   "execution_count": 17,
   "metadata": {
    "scrolled": true
   },
   "outputs": [
    {
     "name": "stdout",
     "output_type": "stream",
     "text": [
      "WARNING:tensorflow:From /home/pavel/anaconda3/lib/python3.6/site-packages/tensorflow/python/util/tf_should_use.py:189: initialize_all_variables (from tensorflow.python.ops.variables) is deprecated and will be removed after 2017-03-02.\n",
      "Instructions for updating:\n",
      "Use `tf.global_variables_initializer` instead.\n",
      "[30 50]\n"
     ]
    }
   ],
   "source": [
    "iterations_per_epoch = 1000\n",
    "batch_size = 50\n",
    "\n",
    "with tf.Session() as sess:\n",
    "    sess.run(tf.initialize_all_variables())\n",
    "    valid_x, valid_y = generate_batch(batch_size=50) \n",
    "    print(sess.run(tf.shape(pred), feed_dict = {inputs:valid_x, outputs:valid_y}))"
   ]
  },
  {
   "cell_type": "code",
   "execution_count": 22,
   "metadata": {},
   "outputs": [
    {
     "name": "stdout",
     "output_type": "stream",
     "text": [
      "32\n"
     ]
    }
   ],
   "source": [
    "batch_size = 50\n",
    "\n",
    "texts = set()\n",
    "x, y = generate_batch(batch_size)\n",
    "for i in range(batch_size):\n",
    "    tmp = x[:, i, 0]\n",
    "    tmp = np.reshape(tmp, -1)\n",
    "    text = vocab.detokenize(tmp)\n",
    "    texts.add(text)\n",
    "print(len(texts))"
   ]
  },
  {
   "cell_type": "code",
   "execution_count": 24,
   "metadata": {
    "scrolled": false
   },
   "outputs": [
    {
     "name": "stdout",
     "output_type": "stream",
     "text": [
      "Epoch 0, train error: 4.18, valid accuracy: 40.5 %\n",
      "Epoch 1, train error: 4.16, valid accuracy: 41.4 %\n",
      "Epoch 2, train error: 4.08, valid accuracy: 58.1 %\n",
      "Epoch 3, train error: 3.94, valid accuracy: 65.9 %\n",
      "Epoch 4, train error: 3.83, valid accuracy: 77.9 %\n",
      "Epoch 5, train error: 3.76, valid accuracy: 78.7 %\n",
      "Epoch 6, train error: 3.76, valid accuracy: 79.3 %\n",
      "Epoch 7, train error: 3.75, valid accuracy: 79.7 %\n",
      "Epoch 8, train error: 3.75, valid accuracy: 80.6 %\n",
      "Epoch 9, train error: 3.73, valid accuracy: 83.0 %\n",
      "Epoch 10, train error: 3.72, valid accuracy: 83.0 %\n",
      "Epoch 11, train error: 3.71, valid accuracy: 85.6 %\n",
      "Epoch 12, train error: 3.70, valid accuracy: 85.7 %\n",
      "Epoch 13, train error: 3.70, valid accuracy: 85.9 %\n",
      "Epoch 14, train error: 3.70, valid accuracy: 85.7 %\n"
     ]
    }
   ],
   "source": [
    "sess = tf.Session()\n",
    "sess.run(tf.global_variables_initializer())\n",
    "iterations_per_epoch = 300\n",
    "\n",
    "valid_x, valid_y = generate_batch(batch_size=50) \n",
    "for epoch in range(15):\n",
    "    epoch_error = 0\n",
    "    for _ in range(iterations_per_epoch):\n",
    "        x, y = generate_batch(batch_size)\n",
    "        epoch_error += sess.run([loss, train_fn], {\n",
    "            inputs: x,\n",
    "            outputs: y,\n",
    "        })[0]\n",
    "       \n",
    "        valid_accuracy = sess.run(accuracy, {\n",
    "            inputs:  valid_x,\n",
    "            outputs: valid_y,\n",
    "        })\n",
    "    epoch_error /= iterations_per_epoch\n",
    "    print (\"Epoch %d, train error: %.2f, valid accuracy: %.1f %%\" % (epoch, epoch_error, valid_accuracy * 100.0))"
   ]
  },
  {
   "cell_type": "code",
   "execution_count": 31,
   "metadata": {},
   "outputs": [
    {
     "name": "stdout",
     "output_type": "stream",
     "text": [
      "e younger man settle him behin\n",
      " tdoitidaiomt oieee ceo tdieos\n"
     ]
    }
   ],
   "source": [
    "sx = np.empty((seq_len, 1, 1), dtype=np.int32)\n",
    "sy = np.empty((seq_len, 1, vocab_size), dtype=np.float32)\n",
    "\n",
    "start = 9\n",
    "my_str = data[259][start:seq_len+start+1]\n",
    "xInp = vocab.tokenize(my_str[:seq_len])\n",
    "\n",
    "\n",
    "yInp = np.zeros([seq_len, vocab_size])\n",
    "    \n",
    "for i in range(1, 1+seq_len):\n",
    "    char = my_str[i]\n",
    "    yInp[i-1] = get_one_hot(char)\n",
    "\n",
    "    \n",
    "sx[:,0,0] = xInp\n",
    "sy[:, 0, :] = yInp\n",
    "sx_nums = np.reshape(sx, [-1])\n",
    "\n",
    "\n",
    "test = sess.run(pred, feed_dict={inputs:sx, outputs:sy})\n",
    "test = np.reshape(test, -1)\n",
    "print(vocab.detokenize(sx_nums))\n",
    "print(vocab.detokenize(test))"
   ]
  },
  {
   "cell_type": "markdown",
   "metadata": {},
   "source": [
    "## Спеллчекер (1 балла)\n",
    "\n",
    "Из языковой модели можно сделать простенький спеллчекер: можно визуализировать лоссы на каждом символе.\n",
    "\n",
    "Бонус: можете усреднить перплексии по словам и выделять их, а не отдельные символы."
   ]
  },
  {
   "cell_type": "code",
   "execution_count": null,
   "metadata": {
    "collapsed": true
   },
   "outputs": [],
   "source": [
    "from IPython.core.display import display, HTML\n",
    "\n",
    "def print_colored(sequence, intensities, delimeter=''):\n",
    "    html = delimeter.join([\n",
    "        f'<span style=\"background: rgb({255}, {255-x}, {255-x})\">{c}</span>'\n",
    "        for c, x in zip(sequence, intensities) \n",
    "    ])\n",
    "    display(HTML(html))\n",
    "\n",
    "print_colored('Налейте мне эспрессо'.split(), [0, 0, 100], ' ')\n",
    "\n",
    "sequence = 'Эту домашку нужно сдать втечении двух недель'\n",
    "intensities = [0]*len(sequence)\n",
    "intensities[25] = 50\n",
    "intensities[26] = 60\n",
    "intensities[27] = 70\n",
    "intensities[31] = 150\n",
    "print_colored(sequence, intensities)"
   ]
  },
  {
   "cell_type": "code",
   "execution_count": null,
   "metadata": {
    "collapsed": true
   },
   "outputs": [],
   "source": [
    "# ..."
   ]
  },
  {
   "cell_type": "markdown",
   "metadata": {},
   "source": [
    "## Генерация предложений (3 балла)\n",
    "\n",
    "* Поддерживайте hidden state при генерации. Не пересчитывайте ничего больше одного раза.\n",
    "* Прикрутите температуру: это когда при сэмплировании все логиты (то, что перед софтмаксом) делятся на какое-то число (по умолчанию 1, тогда ничего не меняется). Температура позволяет делать trade-off между разнообразием и правдоподобием (подробнее — см. блог Карпатого).\n",
    "* Ваша реализация должна уметь принимать строку seed — то, с чего должно начинаться сгенерированная строка.\n",
    "\n",
    "Если сделаете все вышеперечисленное, то получите 2 балла. Если сделаете хоть какую-то генерацию, то 1 балл."
   ]
  },
  {
   "cell_type": "code",
   "execution_count": null,
   "metadata": {
    "collapsed": true
   },
   "outputs": [],
   "source": [
    "def sample(length, temperature=1, seed=''):\n",
    "    # ..."
   ]
  }
 ],
 "metadata": {
  "kernelspec": {
   "display_name": "Python 3",
   "language": "python",
   "name": "python3"
  },
  "language_info": {
   "codemirror_mode": {
    "name": "ipython",
    "version": 3
   },
   "file_extension": ".py",
   "mimetype": "text/x-python",
   "name": "python",
   "nbconvert_exporter": "python",
   "pygments_lexer": "ipython3",
   "version": "3.6.3"
  }
 },
 "nbformat": 4,
 "nbformat_minor": 2
}
